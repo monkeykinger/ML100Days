{
 "cells": [
  {
   "cell_type": "code",
   "execution_count": 1,
   "metadata": {},
   "outputs": [
    {
     "name": "stdout",
     "output_type": "stream",
     "text": [
      "1.檔案格式\n",
      "2.函數為自訂義還是內建的\n"
     ]
    }
   ],
   "source": [
    "#1. 在速度較慢的時候，可以先從哪邊開始檢查?\n",
    "print(\"1.檔案格式\")\n",
    "print(\"2.函數為自訂義還是內建的\")"
   ]
  },
  {
   "cell_type": "code",
   "execution_count": 2,
   "metadata": {},
   "outputs": [
    {
     "name": "stdout",
     "output_type": "stream",
     "text": [
      "更改數值型態，例如：：將整數型態 int 改成 uint；浮點數float64改為float32等\n"
     ]
    }
   ],
   "source": [
    "#2. 資料過大時應採取什麼方式讓記憶體占用量下降?\n",
    "\n",
    "print(\"更改數值型態，例如：：將整數型態 int 改成 uint；浮點數float64改為float32等\")"
   ]
  }
 ],
 "metadata": {
  "kernelspec": {
   "display_name": "Python 3",
   "language": "python",
   "name": "python3"
  },
  "language_info": {
   "codemirror_mode": {
    "name": "ipython",
    "version": 3
   },
   "file_extension": ".py",
   "mimetype": "text/x-python",
   "name": "python",
   "nbconvert_exporter": "python",
   "pygments_lexer": "ipython3",
   "version": "3.8.5"
  }
 },
 "nbformat": 4,
 "nbformat_minor": 4
}
