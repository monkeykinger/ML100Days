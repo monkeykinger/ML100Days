{
 "cells": [
  {
   "cell_type": "code",
   "execution_count": 1,
   "metadata": {},
   "outputs": [],
   "source": [
    "import numpy as np"
   ]
  },
  {
   "cell_type": "code",
   "execution_count": 33,
   "metadata": {},
   "outputs": [
    {
     "name": "stdout",
     "output_type": "stream",
     "text": [
      "英文平均成績為 67.2 分\n",
      "扣除缺考後的數學平均成績為 66.6 分\n",
      "國文平均成績為 75 分\n",
      "英文最高成績為 89 分\n",
      "扣除缺考後的數學最高成績為 85.0 分\n",
      "國文最高成績為 90 分\n",
      "英文最低成績為 48 分\n",
      "扣除缺考後的數學最低成績為 60.0 分\n",
      "國文最低成績為 65 分\n",
      "英文成績的標準差為 13.4\n",
      "扣除缺考後的數學成績的標準差為 9.7\n",
      "國文成績的標準差為 9\n"
     ]
    }
   ],
   "source": [
    "english_score = np.array([55,89,76,65,48,70])\n",
    "math_score = np.array([60,85,60,68,np.nan,60])\n",
    "chinese_score = np.array([65,90,82,72,66,77])\n",
    "\n",
    "#1. 請計算各科成績平均、最大值、最小值、標準差，其中數學缺一筆資料可忽略?\n",
    "\n",
    "#平均\n",
    "eng_mean = round(np.nanmean(english_score),1)\n",
    "math_mean = round(np.nanmean(math_score),1)\n",
    "chinese_mean = round(np.nanmean(chinese_score),1)\n",
    "\n",
    "print(\"英文平均成績為\",eng_mean,\"分\")\n",
    "print(\"扣除缺考後的數學平均成績為\",math_mean,\"分\")\n",
    "print(\"國文平均成績為\",chinese_mean,\"分\")\n",
    "\n",
    "#最大值\n",
    "eng_max = round(np.nanmax(english_score),1)\n",
    "math_max = round(np.nanmax(math_score),1)\n",
    "chinese_max = round(np.nanmax(chinese_score))\n",
    "\n",
    "print(\"英文最高成績為\",eng_max,\"分\")\n",
    "print(\"扣除缺考後的數學最高成績為\",math_max,\"分\")\n",
    "print(\"國文最高成績為\",chinese_max,\"分\")\n",
    "\n",
    "#最小值\n",
    "eng_min = round(np.nanmin(english_score),1)\n",
    "math_min = round(np.nanmin(math_score),1)\n",
    "chinese_min = round(np.nanmin(chinese_score),1)\n",
    "\n",
    "print(\"英文最低成績為\",eng_min,\"分\")\n",
    "print(\"扣除缺考後的數學最低成績為\",math_min,\"分\")\n",
    "print(\"國文最低成績為\",chinese_min,\"分\")\n",
    "\n",
    "#標準差\n",
    "eng_std = round(np.nanstd(english_score),1)\n",
    "math_std = round(np.nanstd(math_score),1)\n",
    "chinese_std = round(np.nanstd(chinese_score),1)\n",
    "\n",
    "print(\"英文成績的標準差為\",eng_std)\n",
    "print(\"扣除缺考後的數學成績的標準差為\",math_std)\n",
    "print(\"國文成績的標準差為\",chinese_std)"
   ]
  },
  {
   "cell_type": "code",
   "execution_count": 55,
   "metadata": {},
   "outputs": [
    {
     "name": "stdout",
     "output_type": "stream",
     "text": [
      "數學平均成績為 64.7 分\n",
      "數學最高成績為 85.0 分\n",
      "數學最低成績為 55.0 分\n",
      "數學成績的標準差為 9.9\n"
     ]
    }
   ],
   "source": [
    "english_score = np.array([55,89,76,65,48,70])\n",
    "math_score = np.array([60,85,60,68,np.nan,60])\n",
    "chinese_score = np.array([65,90,82,72,66,77])\n",
    "\n",
    "#2. 第五位同學補考數學後成績為55，請計算補考後數學成績平均、最大值、最小值、標準差?\n",
    "\n",
    "#補第五位同學的數學成績\n",
    "math_score[4]=55\n",
    "\n",
    "#平均\n",
    "math_mean = round(np.nanmean(math_score),1)\n",
    "print(\"數學平均成績為\",math_mean,\"分\")\n",
    "\n",
    "#最大值\n",
    "math_max = round(np.nanmax(math_score),1)\n",
    "print(\"數學最高成績為\",math_max,\"分\")\n",
    "\n",
    "#最小值\n",
    "math_min = round(np.nanmin(math_score),1)\n",
    "print(\"數學最低成績為\",math_min,\"分\")\n",
    "\n",
    "#標準差\n",
    "math_std = round(np.nanstd(math_score),1)\n",
    "print(\"數學成績的標準差為\",math_std)"
   ]
  },
  {
   "cell_type": "code",
   "execution_count": 53,
   "metadata": {},
   "outputs": [
    {
     "name": "stdout",
     "output_type": "stream",
     "text": [
      "英文與國文成績相關係數最高\n"
     ]
    }
   ],
   "source": [
    "english_score = np.array([55,89,76,65,48,70])\n",
    "math_score = np.array([60,85,60,68,np.nan,60])\n",
    "chinese_score = np.array([65,90,82,72,66,77])\n",
    "\n",
    "#3. 用補考後資料找出與國文成績相關係數最高的學科?\n",
    "math_score[4]=55\n",
    "\n",
    "#相關係數\n",
    "if np.corrcoef(english_score, chinese_score)[0,1] > np.corrcoef(math_score, english_score)[0,1]:\n",
    "    print(\"英文與國文成績相關係數最高\")\n",
    "else:\n",
    "    print(\"數學與國文成績相關係數最高\")"
   ]
  }
 ],
 "metadata": {
  "kernelspec": {
   "display_name": "Python 3",
   "language": "python",
   "name": "python3"
  },
  "language_info": {
   "codemirror_mode": {
    "name": "ipython",
    "version": 3
   },
   "file_extension": ".py",
   "mimetype": "text/x-python",
   "name": "python",
   "nbconvert_exporter": "python",
   "pygments_lexer": "ipython3",
   "version": "3.8.5"
  }
 },
 "nbformat": 4,
 "nbformat_minor": 4
}
