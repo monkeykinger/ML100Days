{
 "cells": [
  {
   "cell_type": "code",
   "execution_count": 1,
   "metadata": {},
   "outputs": [],
   "source": [
    "import numpy as np\n",
    "import pandas as pd"
   ]
  },
  {
   "cell_type": "code",
   "execution_count": 6,
   "metadata": {},
   "outputs": [
    {
     "name": "stdout",
     "output_type": "stream",
     "text": [
      "            math_score  english_score  chinese_score\n",
      "student_id                                          \n",
      "1                   56             66             70\n",
      "2                   90             45             34\n",
      "3                   45             32             55\n",
      "4                   70             77             89\n",
      "5                   56             80             70\n",
      "6                   60             54             55\n",
      "7                   45             70             79\n",
      "8                   34             77             76\n",
      "9                   25             87             60\n",
      "10                  88             40             43\n"
     ]
    }
   ],
   "source": [
    "score_df = pd.DataFrame([[1,56,66,70], [2,90,45,34], [3,45,32,55], [4,70,77,89], [5,56,80,70], [6,60,54,55], [7,45,70,79], [8,34,77,76], [9,25,87,60], [10,88,40,43]],columns=['student_id','math_score','english_score','chinese_score'])\n",
    "score_df = score_df.set_index('student_id')\n",
    "print(score_df)"
   ]
  },
  {
   "cell_type": "code",
   "execution_count": 10,
   "metadata": {},
   "outputs": [
    {
     "name": "stdout",
     "output_type": "stream",
     "text": [
      "6號學生的3科平均分數為 56.33 分\n"
     ]
    }
   ],
   "source": [
    "#a.6 號學生(student_id=6) 3 科平均分數為何？\n",
    "print(\"6號學生的3科平均分數為\",round(score_df.mean(axis = 1)[6],2),\"分\")"
   ]
  },
  {
   "cell_type": "code",
   "execution_count": 36,
   "metadata": {},
   "outputs": [
    {
     "name": "stdout",
     "output_type": "stream",
     "text": [
      "10\n",
      "贏過 3 號同學\n"
     ]
    }
   ],
   "source": [
    "#b. 6號學生3科平均分數是否有贏過班上一半的同學\n",
    "mean_score = score_df.mean(axis = 1)\n",
    "\n",
    "#計算班上同學\n",
    "n = score_df.math_score.count()\n",
    "print(n)\n",
    "\n",
    "#找出6號同學贏過的同學\n",
    "for i in range(1,n):\n",
    "    if mean_score[6] > mean_score[i]:\n",
    "        print (\"贏過\",i,\"號同學\")"
   ]
  },
  {
   "cell_type": "code",
   "execution_count": 37,
   "metadata": {},
   "outputs": [
    {
     "name": "stdout",
     "output_type": "stream",
     "text": [
      "由上述可知，6號同學的平均成績未贏過班上一半以上的同學\n"
     ]
    }
   ],
   "source": [
    "print(\"由上述可知，6號同學的平均成績未贏過班上一半以上的同學\")"
   ]
  },
  {
   "cell_type": "code",
   "execution_count": 41,
   "metadata": {},
   "outputs": [
    {
     "data": {
      "text/plain": [
       "math_score       77.46\n",
       "english_score    73.48\n",
       "chinese_score    74.16\n",
       "Name: 6, dtype: float64"
      ]
     },
     "execution_count": 41,
     "metadata": {},
     "output_type": "execute_result"
    }
   ],
   "source": [
    "#3. 由於班上同學成績不好，所以學校統一加分，加分方式為開根號乘以十，請問6號同學3科成績分別是?\n",
    "score_df2 = score_df**.5 * 10\n",
    "round(score_df2.loc[6],2)"
   ]
  },
  {
   "cell_type": "code",
   "execution_count": 42,
   "metadata": {},
   "outputs": [
    {
     "data": {
      "text/plain": [
       "math_score       74.19\n",
       "english_score    78.35\n",
       "chinese_score    78.74\n",
       "dtype: float64"
      ]
     },
     "execution_count": 42,
     "metadata": {},
     "output_type": "execute_result"
    }
   ],
   "source": [
    "#4. 承上題，加分後各科班平均變多少\n",
    "round(score_df2.mean(axis=0),2)"
   ]
  }
 ],
 "metadata": {
  "kernelspec": {
   "display_name": "Python 3",
   "language": "python",
   "name": "python3"
  },
  "language_info": {
   "codemirror_mode": {
    "name": "ipython",
    "version": 3
   },
   "file_extension": ".py",
   "mimetype": "text/x-python",
   "name": "python",
   "nbconvert_exporter": "python",
   "pygments_lexer": "ipython3",
   "version": "3.8.5"
  }
 },
 "nbformat": 4,
 "nbformat_minor": 4
}
