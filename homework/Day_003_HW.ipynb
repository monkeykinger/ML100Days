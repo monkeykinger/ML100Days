{
 "cells": [
  {
   "cell_type": "code",
   "execution_count": 12,
   "metadata": {},
   "outputs": [],
   "source": [
    "import numpy as np"
   ]
  },
  {
   "cell_type": "code",
   "execution_count": 39,
   "metadata": {},
   "outputs": [
    {
     "name": "stdout",
     "output_type": "stream",
     "text": [
      "20000 微巴斯卡是 60.0 分貝\n"
     ]
    }
   ],
   "source": [
    "#1.正常的談話的聲壓為20000微巴斯卡，請問多少分貝?\n",
    "#請寫下程式\n",
    "V1 = 20000\n",
    "V0 = 20\n",
    "ans = np.log10(V1/V0)*20\n",
    "print(\"20000 微巴斯卡是\",ans,\"分貝\")"
   ]
  },
  {
   "cell_type": "code",
   "execution_count": 47,
   "metadata": {},
   "outputs": [
    {
     "name": "stdout",
     "output_type": "stream",
     "text": [
      "30分貝的聲壓是50分貝的 0.1 倍\n"
     ]
    }
   ],
   "source": [
    "#2.30分貝的聲壓會是50分貝的幾倍?\n",
    "\n",
    "#公式移項過後可以得到 V1 = ?\n",
    "#30分貝為30 = log10(v30/v0)*20 = log10(v30)*20 - log10(v0)*20\n",
    "#log10(v30)*20 = 30 + log10(v0)*20\n",
    "#log10(v30) = 30/20 + log10(v0)\n",
    "\n",
    "#50分貝為50=log10(v50/v0)*20 = log10(v50)*20 - log10(v0)*20\n",
    "#log10(v50)*20 = 50 + log10(v0)*20\n",
    "#log10(v50) = 50/20 + 1og10(v0)*20\n",
    "\n",
    "\n",
    "v0 = 20\n",
    "v30 = np.power(10,30/20 + np.log10(v0))\n",
    "v50 = np.power(10,50/20 + np.log10(v0))\n",
    "ans = round(v30/v50,1)\n",
    "print(\"30分貝的聲壓是50分貝的\",ans,\"倍\")"
   ]
  }
 ],
 "metadata": {
  "kernelspec": {
   "display_name": "Python 3",
   "language": "python",
   "name": "python3"
  },
  "language_info": {
   "codemirror_mode": {
    "name": "ipython",
    "version": 3
   },
   "file_extension": ".py",
   "mimetype": "text/x-python",
   "name": "python",
   "nbconvert_exporter": "python",
   "pygments_lexer": "ipython3",
   "version": "3.8.5"
  }
 },
 "nbformat": 4,
 "nbformat_minor": 4
}
